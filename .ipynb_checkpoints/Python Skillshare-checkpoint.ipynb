{
 "cells": [
  {
   "cell_type": "markdown",
   "metadata": {},
   "source": [
    "**Welcome!**\n",
    "\n",
    "This SkillShare is centered on working with Python and Jupyter Notebook to analyze oceanographic data. This notebook is your \"cheat sheet,\" for when you get stuck on a problem and need to look at the working code.\n",
    "\n",
    "First, a quick distinction:\n",
    "- **Python** is a programming language, just like R, java script, C++, etc.\n",
    "- **Jupyter Notebook** is a graphical user interface, or GUI, that lets us write Python code and run it easily. \n",
    "\n",
    "We are using Jupyter Notebooks on a remote server. If you wanted to run Jupyter Notebook on your own computer and save/download code, you would need to download Anaconda. Ask me after class if this is something you're interested in.\n",
    "\n",
    "First, we are going to look at a few basic ideas in Python: what's a variable? A list? A string?\n",
    "\n",
    "Then, we will import oceanographic data from my research in the Pacific Ocean, and use Python to analyze and visualize different aspects of it.\n",
    "\n",
    "I have included some \"challenges\" here if you want to play around with this code at home. If you ever have a question, get stuck, or need help, please ask!"
   ]
  },
  {
   "cell_type": "code",
   "execution_count": 3,
   "metadata": {},
   "outputs": [],
   "source": [
    "# a variable\n",
    "# In your blank notebook, type in the code below, \n",
    "# then hold shift+enter to run it\n",
    "\n",
    "x = 1"
   ]
  },
  {
   "cell_type": "code",
   "execution_count": 4,
   "metadata": {},
   "outputs": [],
   "source": [
    "# a list\n",
    "\n",
    "newlist = [1,2,3,4,5]"
   ]
  },
  {
   "cell_type": "code",
   "execution_count": 5,
   "metadata": {},
   "outputs": [],
   "source": [
    "# a string\n",
    "\n",
    "string = 'Hello World!'"
   ]
  },
  {
   "cell_type": "code",
   "execution_count": 6,
   "metadata": {},
   "outputs": [
    {
     "name": "stdout",
     "output_type": "stream",
     "text": [
      "Hello World!\n"
     ]
    }
   ],
   "source": [
    "# showing a variable\n",
    "\n",
    "print(string)"
   ]
  },
  {
   "cell_type": "markdown",
   "metadata": {},
   "source": [
    "**Challenge: Can you get your notebook to print x (defined above)?**"
   ]
  },
  {
   "cell_type": "code",
   "execution_count": 7,
   "metadata": {},
   "outputs": [
    {
     "data": {
      "text/plain": [
       "1"
      ]
     },
     "execution_count": 7,
     "metadata": {},
     "output_type": "execute_result"
    }
   ],
   "source": [
    "# get the FIRST element of our list\n",
    "\n",
    "newlist[0]"
   ]
  },
  {
   "cell_type": "markdown",
   "metadata": {},
   "source": [
    "**Challenge: How do we get the fifth element of our list? (HINT: Unlike MatLab, we started counting at 0!)**"
   ]
  },
  {
   "cell_type": "markdown",
   "metadata": {},
   "source": [
    "OK! We've got the basic machinery down. Now we're going to import some packages to do fancier stuff.\n",
    "\n",
    "More terminology:\n",
    "- **Packages** are additional sets of functionality that let us do things outside of the basic Python framework.\n",
    "- **Pandas** is an awesome package for data management\n",
    "- **Numpy** does math-y stuff\n",
    "- **Matplotlib** plots graphs in python\n",
    "\n",
    "We will give each of these packages a nickname: \"pd\",\"np\", and \"plt\", so they're easier to access."
   ]
  },
  {
   "cell_type": "code",
   "execution_count": 8,
   "metadata": {},
   "outputs": [],
   "source": [
    "# import packages\n",
    "\n",
    "import pandas as pd\n",
    "import numpy as np\n",
    "import matplotlib.pyplot as plt"
   ]
  },
  {
   "cell_type": "code",
   "execution_count": 9,
   "metadata": {},
   "outputs": [
    {
     "name": "stdout",
     "output_type": "stream",
     "text": [
      "[[1 2 3]\n",
      " [4 5 6]]\n"
     ]
    }
   ],
   "source": [
    "# a numpy array\n",
    "\n",
    "array = np.array([[1,2,3],[4,5,6]])\n",
    "\n",
    "print(array)"
   ]
  },
  {
   "cell_type": "code",
   "execution_count": 10,
   "metadata": {},
   "outputs": [
    {
     "data": {
      "text/plain": [
       "array([1, 2, 3])"
      ]
     },
     "execution_count": 10,
     "metadata": {},
     "output_type": "execute_result"
    }
   ],
   "source": [
    "# get the first row of our array\n",
    "\n",
    "array[0,:]"
   ]
  },
  {
   "cell_type": "code",
   "execution_count": 11,
   "metadata": {},
   "outputs": [
    {
     "data": {
      "text/plain": [
       "array([1, 4])"
      ]
     },
     "execution_count": 11,
     "metadata": {},
     "output_type": "execute_result"
    }
   ],
   "source": [
    "# get the first column of our array\n",
    "\n",
    "array[:,0]"
   ]
  },
  {
   "cell_type": "code",
   "execution_count": 12,
   "metadata": {},
   "outputs": [
    {
     "data": {
      "text/plain": [
       "1"
      ]
     },
     "execution_count": 12,
     "metadata": {},
     "output_type": "execute_result"
    }
   ],
   "source": [
    "# get the first element in the first row\n",
    "\n",
    "array[0,0]"
   ]
  },
  {
   "cell_type": "markdown",
   "metadata": {},
   "source": [
    "**Challenge: Can you access the third element of the third row?**"
   ]
  },
  {
   "cell_type": "code",
   "execution_count": 13,
   "metadata": {},
   "outputs": [
    {
     "data": {
      "text/html": [
       "<div>\n",
       "<style scoped>\n",
       "    .dataframe tbody tr th:only-of-type {\n",
       "        vertical-align: middle;\n",
       "    }\n",
       "\n",
       "    .dataframe tbody tr th {\n",
       "        vertical-align: top;\n",
       "    }\n",
       "\n",
       "    .dataframe thead th {\n",
       "        text-align: right;\n",
       "    }\n",
       "</style>\n",
       "<table border=\"1\" class=\"dataframe\">\n",
       "  <thead>\n",
       "    <tr style=\"text-align: right;\">\n",
       "      <th></th>\n",
       "      <th>0</th>\n",
       "      <th>1</th>\n",
       "      <th>2</th>\n",
       "    </tr>\n",
       "  </thead>\n",
       "  <tbody>\n",
       "    <tr>\n",
       "      <th>0</th>\n",
       "      <td>1</td>\n",
       "      <td>2</td>\n",
       "      <td>3</td>\n",
       "    </tr>\n",
       "    <tr>\n",
       "      <th>1</th>\n",
       "      <td>4</td>\n",
       "      <td>5</td>\n",
       "      <td>6</td>\n",
       "    </tr>\n",
       "  </tbody>\n",
       "</table>\n",
       "</div>"
      ],
      "text/plain": [
       "   0  1  2\n",
       "0  1  2  3\n",
       "1  4  5  6"
      ]
     },
     "execution_count": 13,
     "metadata": {},
     "output_type": "execute_result"
    }
   ],
   "source": [
    "# a dataframe\n",
    "\n",
    "df = pd.DataFrame(array)\n",
    "\n",
    "df"
   ]
  },
  {
   "cell_type": "code",
   "execution_count": 14,
   "metadata": {},
   "outputs": [
    {
     "data": {
      "text/html": [
       "<div>\n",
       "<style scoped>\n",
       "    .dataframe tbody tr th:only-of-type {\n",
       "        vertical-align: middle;\n",
       "    }\n",
       "\n",
       "    .dataframe tbody tr th {\n",
       "        vertical-align: top;\n",
       "    }\n",
       "\n",
       "    .dataframe thead th {\n",
       "        text-align: right;\n",
       "    }\n",
       "</style>\n",
       "<table border=\"1\" class=\"dataframe\">\n",
       "  <thead>\n",
       "    <tr style=\"text-align: right;\">\n",
       "      <th></th>\n",
       "      <th>I</th>\n",
       "      <th>Love</th>\n",
       "      <th>Colette</th>\n",
       "    </tr>\n",
       "  </thead>\n",
       "  <tbody>\n",
       "    <tr>\n",
       "      <th>So</th>\n",
       "      <td>1</td>\n",
       "      <td>2</td>\n",
       "      <td>3</td>\n",
       "    </tr>\n",
       "    <tr>\n",
       "      <th>Much</th>\n",
       "      <td>4</td>\n",
       "      <td>5</td>\n",
       "      <td>6</td>\n",
       "    </tr>\n",
       "  </tbody>\n",
       "</table>\n",
       "</div>"
      ],
      "text/plain": [
       "      I  Love  Colette\n",
       "So    1     2        3\n",
       "Much  4     5        6"
      ]
     },
     "execution_count": 14,
     "metadata": {},
     "output_type": "execute_result"
    }
   ],
   "source": [
    "# rename columns and rows\n",
    "\n",
    "df = df.rename(columns={0:'I',1:'Love',2:'Colette'})\n",
    "df = df.rename(index={0:'So',1:'Much'})\n",
    "\n",
    "df"
   ]
  },
  {
   "cell_type": "code",
   "execution_count": 17,
   "metadata": {},
   "outputs": [
    {
     "data": {
      "text/plain": [
       "Index(['So', 'Much'], dtype='object')"
      ]
     },
     "execution_count": 17,
     "metadata": {},
     "output_type": "execute_result"
    }
   ],
   "source": [
    "# dataframes are great because they contain an index:\n",
    "\n",
    "df.index"
   ]
  },
  {
   "cell_type": "code",
   "execution_count": 19,
   "metadata": {},
   "outputs": [
    {
     "data": {
      "text/html": [
       "<div>\n",
       "<style scoped>\n",
       "    .dataframe tbody tr th:only-of-type {\n",
       "        vertical-align: middle;\n",
       "    }\n",
       "\n",
       "    .dataframe tbody tr th {\n",
       "        vertical-align: top;\n",
       "    }\n",
       "\n",
       "    .dataframe thead th {\n",
       "        text-align: right;\n",
       "    }\n",
       "</style>\n",
       "<table border=\"1\" class=\"dataframe\">\n",
       "  <thead>\n",
       "    <tr style=\"text-align: right;\">\n",
       "      <th></th>\n",
       "      <th>index</th>\n",
       "      <th>I</th>\n",
       "      <th>Love</th>\n",
       "    </tr>\n",
       "    <tr>\n",
       "      <th>Colette</th>\n",
       "      <th></th>\n",
       "      <th></th>\n",
       "      <th></th>\n",
       "    </tr>\n",
       "  </thead>\n",
       "  <tbody>\n",
       "    <tr>\n",
       "      <th>3</th>\n",
       "      <td>So</td>\n",
       "      <td>1</td>\n",
       "      <td>2</td>\n",
       "    </tr>\n",
       "    <tr>\n",
       "      <th>6</th>\n",
       "      <td>Much</td>\n",
       "      <td>4</td>\n",
       "      <td>5</td>\n",
       "    </tr>\n",
       "  </tbody>\n",
       "</table>\n",
       "</div>"
      ],
      "text/plain": [
       "        index  I  Love\n",
       "Colette               \n",
       "3          So  1     2\n",
       "6        Much  4     5"
      ]
     },
     "execution_count": 19,
     "metadata": {},
     "output_type": "execute_result"
    }
   ],
   "source": [
    "# reset the index to a different column\n",
    "\n",
    "df2 = df.reset_index() # a second dataframe!\n",
    "\n",
    "# make the 'Splash' column the index\n",
    "\n",
    "df2.set_index('Colette')"
   ]
  },
  {
   "cell_type": "markdown",
   "metadata": {},
   "source": [
    "**Challenge: Can you reset the index back to the original one?**"
   ]
  },
  {
   "cell_type": "markdown",
   "metadata": {},
   "source": [
    "A quick overview of loops:"
   ]
  },
  {
   "cell_type": "code",
   "execution_count": 20,
   "metadata": {},
   "outputs": [
    {
     "name": "stdout",
     "output_type": "stream",
     "text": [
      "0\n",
      "1\n",
      "2\n"
     ]
    }
   ],
   "source": [
    "for i in range(3):\n",
    "    print(i)"
   ]
  },
  {
   "cell_type": "code",
   "execution_count": 21,
   "metadata": {},
   "outputs": [
    {
     "name": "stdout",
     "output_type": "stream",
     "text": [
      "1\n",
      "2\n",
      "3\n"
     ]
    }
   ],
   "source": [
    "for i in range(3):\n",
    "    print(newlist[i])"
   ]
  },
  {
   "cell_type": "markdown",
   "metadata": {},
   "source": [
    "Now some plots — we'll start out with some fake data. \n",
    "\n",
    "More terminology:\n",
    "- A **function** does a specific job, such as:\n",
    "- **np.linspace**, which gives you a list of 50 numbers evenly spaced between two specified endpoints\n",
    "- ...or **np.sin**, which calculates the sine of a given number\n",
    "\n",
    "To make a plot, first we need to set up some axes. We'll do this with the \"fig, ax = plt.subplots()\" command. Then, we'll plot a sine curve."
   ]
  },
  {
   "cell_type": "code",
   "execution_count": 22,
   "metadata": {},
   "outputs": [
    {
     "data": {
      "text/plain": [
       "[<matplotlib.lines.Line2D at 0x112839198>]"
      ]
     },
     "execution_count": 22,
     "metadata": {},
     "output_type": "execute_result"
    },
    {
     "data": {
      "image/png": "[encoded data removed]",
      "text/plain": [
       "<Figure size 432x288 with 1 Axes>"
      ]
     },
     "metadata": {
      "needs_background": "light"
     },
     "output_type": "display_data"
    }
   ],
   "source": [
    "# make a plot\n",
    "\n",
    "fig, ax = plt.subplots() # set up your axes\n",
    "\n",
    "x = np.linspace(0,2*np.pi)\n",
    "y = np.sin(x)\n",
    "\n",
    "ax.plot(x,y)"
   ]
  },
  {
   "cell_type": "markdown",
   "metadata": {},
   "source": [
    "OK, now we are FINALLY ready to read in some data. We'll use the Pandas package to do this."
   ]
  },
  {
   "cell_type": "code",
   "execution_count": 30,
   "metadata": {},
   "outputs": [
    {
     "name": "stdout",
     "output_type": "stream",
     "text": [
      "/Users/colette/Box Sync/Teaching/Python Skillshare/Data\n"
     ]
    }
   ],
   "source": [
    "cd 'data'"
   ]
  },
  {
   "cell_type": "code",
   "execution_count": 33,
   "metadata": {},
   "outputs": [
    {
     "name": "stdout",
     "output_type": "stream",
     "text": [
      "all_bottle_data.csv          ~$n2o no3 no2 isotopes.xlsx\r\n",
      "n2o no3 no2 isotopes.xlsx\r\n"
     ]
    }
   ],
   "source": [
    "ls"
   ]
  },
  {
   "cell_type": "code",
   "execution_count": 42,
   "metadata": {},
   "outputs": [],
   "source": [
    "bottlefile = pd.read_csv('all_bottle_data.csv')\n",
    "isotopes = pd.read_excel('isotopes.xlsx')"
   ]
  },
  {
   "cell_type": "markdown",
   "metadata": {},
   "source": [
    "Let's check out what these dataframes look like..."
   ]
  },
  {
   "cell_type": "code",
   "execution_count": 64,
   "metadata": {},
   "outputs": [],
   "source": [
    "# uncomment the below (take out the hash mark)\n",
    "#bottlefile\n",
    "#isotopes"
   ]
  },
  {
   "cell_type": "markdown",
   "metadata": {},
   "source": [
    "What if we"
   ]
  },
  {
   "cell_type": "code",
   "execution_count": 46,
   "metadata": {},
   "outputs": [],
   "source": [
    "data = pd.read_excel('Data/190309 Collated Data.xlsx')\n",
    "data = data.sort_values('CTD_Depth [m]')"
   ]
  },
  {
   "cell_type": "code",
   "execution_count": 43,
   "metadata": {},
   "outputs": [
    {
     "data": {
      "text/plain": [
       "Index(['Index', 'Niskin #', 'Cruise', 'Station', 'Cast', 'Date',\n",
       "       'Time (local)', 'Time (GMT)', '(N deg)', '(N minutes)', 'Latitude (N)',\n",
       "       '(W deg)', '(W minutes)', 'Longitude (W)', 'Sample Type',\n",
       "       'Target Depth (m)', 'Feature', 'N2O BOTTLE ID', 'Cast #', 'DateCTD',\n",
       "       'Time', 'Latitude [N]', 'Longitude [W]', 'CTD_Pressure [db]',\n",
       "       'CTD_Depth [m]', 'Salinity [psu]', 'Temperature [C]', 'Sigma_Theta',\n",
       "       'PAR [uE/m2/s]', 'Oxygen [umol/L]', 'Row', 'Identifier1', 'IsRef_',\n",
       "       'd15N_14N', 'd18O_16O', 'd17O_16O', 'Area44', 'Area30', 'BGD44', 'Rt',\n",
       "       'FileHeader_Filename', 'TimeCode', 'rR45N2O_44N2O_data',\n",
       "       'rR46N2O_44N2O_data', 'rR31NO_30NO_data', 'rR45N2O_44N2O_stnds',\n",
       "       'rR46N2O_44N2O_stnds', 'rR31NO_30NO_stnds', 'raw_45rR_45rR',\n",
       "       'raw_46rR_46rR', 'raw_31rR_31rR', 'size_corrected_31Rr_31Rr',\n",
       "       'size_corrected_45Rr_45Rr', 'size_corrected_46Rr_46Rr',\n",
       "       'size_corrected_31R', 'size_corrected_45R', 'size_corrected_46R',\n",
       "       'd15Na_1', 'd15Nb_1', 'SP_1', 'd15Nbulk_1', 'd17O_1', 'd18O_1',\n",
       "       'Run_Date_1', 'Run_ID_1', 'd15Na', 'd15Nb', 'SP', 'd15Nbulk', 'd18O',\n",
       "       'N2O44_nM', 'N2O45_nM', 'N2O46_nM', 'Longitude [degrees_east]', 'Flag',\n",
       "       'Notes'],\n",
       "      dtype='object')"
      ]
     },
     "execution_count": 43,
     "metadata": {},
     "output_type": "execute_result"
    }
   ],
   "source": [
    "# list all of the columns\n",
    "\n",
    "data.columns"
   ]
  },
  {
   "cell_type": "code",
   "execution_count": 66,
   "metadata": {},
   "outputs": [],
   "source": [
    "# get one specific column\n",
    "\n",
    "depth = data['CTD_Depth [m]']"
   ]
  },
  {
   "cell_type": "code",
   "execution_count": 47,
   "metadata": {},
   "outputs": [
    {
     "data": {
      "text/plain": [
       "[<matplotlib.lines.Line2D at 0x10f6f7400>]"
      ]
     },
     "execution_count": 47,
     "metadata": {},
     "output_type": "execute_result"
    },
    {
     "data": {
      "image/png": "[encoded data removed]",
      "text/plain": [
       "<Figure size 432x288 with 1 Axes>"
      ]
     },
     "metadata": {
      "needs_background": "light"
     },
     "output_type": "display_data"
    }
   ],
   "source": [
    "# plot all temperature data\n",
    "\n",
    "fig, ax = plt.subplots()\n",
    "\n",
    "ax.plot(data['Temperature [C]'],data['CTD_Depth [m]'])"
   ]
  },
  {
   "cell_type": "code",
   "execution_count": 48,
   "metadata": {},
   "outputs": [
    {
     "data": {
      "text/plain": [
       "(3000, 0)"
      ]
     },
     "execution_count": 48,
     "metadata": {},
     "output_type": "execute_result"
    },
    {
     "data": {
      "image/png": "[encoded data removed]",
      "text/plain": [
       "<Figure size 432x288 with 1 Axes>"
      ]
     },
     "metadata": {
      "needs_background": "light"
     },
     "output_type": "display_data"
    }
   ],
   "source": [
    "# that looks cool!!\n",
    "# let's also plot with the SURFACE (depth=0) at the TOP of our graph\n",
    "\n",
    "fig, ax = plt.subplots()\n",
    "\n",
    "ax.plot(data['Temperature [C]'],data['CTD_Depth [m]'])\n",
    "\n",
    "ax.set_ylim([3000,0])"
   ]
  },
  {
   "cell_type": "code",
   "execution_count": 49,
   "metadata": {},
   "outputs": [
    {
     "data": {
      "text/plain": [
       "Text(0.5, 1.0, 'An awesome plot!')"
      ]
     },
     "execution_count": 49,
     "metadata": {},
     "output_type": "execute_result"
    },
    {
     "data": {
      "image/png": "[encoded data removed]",
      "text/plain": [
       "<Figure size 432x288 with 1 Axes>"
      ]
     },
     "metadata": {
      "needs_background": "light"
     },
     "output_type": "display_data"
    }
   ],
   "source": [
    "# add axis labels and a title\n",
    "\n",
    "fig, ax = plt.subplots()\n",
    "\n",
    "ax.plot(data['Temperature [C]'],data['CTD_Depth [m]'])\n",
    "\n",
    "ax.set_ylim([3000,0])\n",
    "\n",
    "ax.set_xlabel('Temperature (C)')\n",
    "ax.set_ylabel('Depth (m)')\n",
    "ax.set_title('An awesome plot!')"
   ]
  },
  {
   "cell_type": "code",
   "execution_count": 50,
   "metadata": {},
   "outputs": [],
   "source": [
    "# pull out specific stations\n",
    "\n",
    "ps1 = data[data.Station=='PS1']\n",
    "ps2 = data[data.Station=='PS2']\n",
    "t6 = data[data.Station=='T6']\n",
    "ps3 = data[data.Station=='PS3']"
   ]
  },
  {
   "cell_type": "code",
   "execution_count": 67,
   "metadata": {},
   "outputs": [],
   "source": [
    "# what did we just do?? Uncomment to check it out:\n",
    "\n",
    "#ps1"
   ]
  },
  {
   "cell_type": "code",
   "execution_count": 62,
   "metadata": {},
   "outputs": [
    {
     "data": {
      "text/plain": [
       "(0, 250)"
      ]
     },
     "execution_count": 62,
     "metadata": {},
     "output_type": "execute_result"
    },
    {
     "data": {
      "image/png": "[encoded data removed]",
      "text/plain": [
       "<Figure size 432x288 with 1 Axes>"
      ]
     },
     "metadata": {
      "needs_background": "light"
     },
     "output_type": "display_data"
    }
   ],
   "source": [
    "# A very fancy plot! Plot only one station:\n",
    "\n",
    "\n",
    "yaxis = 'CTD_Depth [m]'\n",
    "fsize=20\n",
    "ylabel = 'Depth [m]'\n",
    "msize=5\n",
    "\n",
    "fig, ax = plt.subplots()\n",
    "\n",
    "# subplot 1: oxygen\n",
    "ax.set_ylim([1500, 0])\n",
    "\n",
    "ax.plot(ps1['Oxygen [umol/L]'], ps1[yaxis], marker='d',\n",
    "          color='navy',label='PS1')\n",
    "\n",
    "\n",
    "ax.legend(loc=4, fontsize=12)\n",
    "ax.set_ylabel(ylabel)\n",
    "ax.set_xlabel(r'$[O_2]\\ (\\mu mol/kg)$')\n",
    "ax.set_xlim([0, 250])"
   ]
  },
  {
   "cell_type": "code",
   "execution_count": 63,
   "metadata": {},
   "outputs": [
    {
     "data": {
      "text/plain": [
       "(0, 250)"
      ]
     },
     "execution_count": 63,
     "metadata": {},
     "output_type": "execute_result"
    },
    {
     "data": {
      "image/png": "[encoded data removed]",
      "text/plain": [
       "<Figure size 432x288 with 1 Axes>"
      ]
     },
     "metadata": {
      "needs_background": "light"
     },
     "output_type": "display_data"
    }
   ],
   "source": [
    "#  A very fancy plot! Plot FOUR stations:\n",
    "\n",
    "\n",
    "yaxis = 'CTD_Depth [m]'\n",
    "fsize=20\n",
    "ylabel = 'Depth [m]'\n",
    "msize=5\n",
    "\n",
    "fig, ax = plt.subplots()\n",
    "\n",
    "# subplot 1: oxygen\n",
    "ax.set_ylim([1500, 0])\n",
    "\n",
    "ax.plot(ps1['Oxygen [umol/L]'], ps1[yaxis], marker='d',\n",
    "          color='navy',label='PS1')\n",
    "ax.plot(ps2['Oxygen [umol/L]'], ps2[yaxis], marker='d',\n",
    "          color='turquoise',label='PS2')\n",
    "ax.plot(t6['Oxygen [umol/L]'], t6[yaxis], marker='d',\n",
    "          color='darkgreen',label='T6')\n",
    "ax.plot(ps3['Oxygen [umol/L]'], ps3[yaxis], marker='d',\n",
    "          color='yellowgreen', label='Coastal')\n",
    "\n",
    "ax.legend(loc=4, fontsize=12)\n",
    "ax.set_ylabel(ylabel)\n",
    "ax.set_xlabel(r'$[O_2]\\ (\\mu mol/kg)$')\n",
    "ax.set_xlim([0, 250])"
   ]
  },
  {
   "cell_type": "markdown",
   "metadata": {},
   "source": [
    "**Data Challenge(s): Can you...**\n",
    "\n",
    "1. Plot a temperature instead of oxygen?\n",
    "2. Give the plots different colors?\n",
    "3. Change the range of the y-axis?\n",
    "\n",
    "Good luck!"
   ]
  },
  {
   "cell_type": "code",
   "execution_count": null,
   "metadata": {},
   "outputs": [],
   "source": []
  }
 ],
 "metadata": {
  "kernelspec": {
   "display_name": "Python 3",
   "language": "python",
   "name": "python3"
  },
  "language_info": {
   "codemirror_mode": {
    "name": "ipython",
    "version": 3
   },
   "file_extension": ".py",
   "mimetype": "text/x-python",
   "name": "python",
   "nbconvert_exporter": "python",
   "pygments_lexer": "ipython3",
   "version": "3.7.2"
  }
 },
 "nbformat": 4,
 "nbformat_minor": 2
}
